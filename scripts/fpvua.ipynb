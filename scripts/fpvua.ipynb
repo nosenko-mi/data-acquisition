{
 "cells": [
  {
   "cell_type": "code",
   "execution_count": 1,
   "metadata": {},
   "outputs": [],
   "source": [
    "from selenium import webdriver\n",
    "from selenium.webdriver.remote.webelement import WebElement\n",
    "from selenium.webdriver.common.by import By\n",
    "import pandas as pd"
   ]
  },
  {
   "cell_type": "code",
   "execution_count": null,
   "metadata": {},
   "outputs": [
    {
     "data": {
      "text/html": [
       "<div>\n",
       "<style scoped>\n",
       "    .dataframe tbody tr th:only-of-type {\n",
       "        vertical-align: middle;\n",
       "    }\n",
       "\n",
       "    .dataframe tbody tr th {\n",
       "        vertical-align: top;\n",
       "    }\n",
       "\n",
       "    .dataframe thead th {\n",
       "        text-align: right;\n",
       "    }\n",
       "</style>\n",
       "<table border=\"1\" class=\"dataframe\">\n",
       "  <thead>\n",
       "    <tr style=\"text-align: right;\">\n",
       "      <th></th>\n",
       "      <th>Question</th>\n",
       "      <th>Answer</th>\n",
       "      <th>Source</th>\n",
       "    </tr>\n",
       "  </thead>\n",
       "  <tbody>\n",
       "    <tr>\n",
       "      <th>0</th>\n",
       "      <td>Хочу зробити failsafe 6 хвилин, як правильно ц...</td>\n",
       "      <td>Треба міняти прошивку бетафлай.</td>\n",
       "      <td>https://fpvua.org/threads/jak-zrobiti-dovshe-f...</td>\n",
       "    </tr>\n",
       "    <tr>\n",
       "      <th>1</th>\n",
       "      <td>Хочу зробити failsafe 6 хвилин, як правильно ц...</td>\n",
       "      <td>якщо в мене в бетафлай нема вкладки файлсейв, ...</td>\n",
       "      <td>https://fpvua.org/threads/jak-zrobiti-dovshe-f...</td>\n",
       "    </tr>\n",
       "  </tbody>\n",
       "</table>\n",
       "</div>"
      ],
      "text/plain": [
       "                                            Question  \\\n",
       "0  Хочу зробити failsafe 6 хвилин, як правильно ц...   \n",
       "1  Хочу зробити failsafe 6 хвилин, як правильно ц...   \n",
       "\n",
       "                                              Answer  \\\n",
       "0                    Треба міняти прошивку бетафлай.   \n",
       "1  якщо в мене в бетафлай нема вкладки файлсейв, ...   \n",
       "\n",
       "                                              Source  \n",
       "0  https://fpvua.org/threads/jak-zrobiti-dovshe-f...  \n",
       "1  https://fpvua.org/threads/jak-zrobiti-dovshe-f...  "
      ]
     },
     "execution_count": 2,
     "metadata": {},
     "output_type": "execute_result"
    }
   ],
   "source": []
  },
  {
   "cell_type": "code",
   "execution_count": null,
   "metadata": {},
   "outputs": [],
   "source": [
    "sources = [\n",
    "    'https://fpvua.org/forums/pitannja-ta-vidpovidi.22/'\n",
    "]"
   ]
  },
  {
   "cell_type": "code",
   "execution_count": null,
   "metadata": {},
   "outputs": [],
   "source": [
    "driver = webdriver.Chrome()"
   ]
  },
  {
   "cell_type": "code",
   "execution_count": 10,
   "metadata": {},
   "outputs": [],
   "source": [
    "next_page_css_selector = '#top > div.p-body > div > div.p-body-main > div.p-body-content > div > div > div:nth-child(1) > div > nav > div.pageNav > a'"
   ]
  },
  {
   "cell_type": "code",
   "execution_count": null,
   "metadata": {},
   "outputs": [],
   "source": [
    "def get_threads(driver: webdriver, section_url: str) -> list[str]:\n",
    "    driver.get(section_url)\n",
    "    thread_elements = driver.find_elements(By.CLASS_NAME, 'structItem--thread')\n",
    "    thread_links = []\n",
    "    for t in thread_elements:\n",
    "        link_elem = t.find_element(By.CLASS_NAME, \"structItem-title\").find_element(By.TAG_NAME, 'a')\n",
    "        thread_links.append(link_elem.get_attribute('href'))\n",
    "\n",
    "    return thread_links"
   ]
  },
  {
   "cell_type": "code",
   "execution_count": 35,
   "metadata": {},
   "outputs": [],
   "source": [
    "driver.get('https://fpvua.org/forums/pitannja-ta-vidpovidi.22/')\n",
    "btn = driver.find_element(By.CSS_SELECTOR, next_page_css_selector)\n",
    "btn.click()"
   ]
  },
  {
   "cell_type": "code",
   "execution_count": 36,
   "metadata": {},
   "outputs": [
    {
     "name": "stdout",
     "output_type": "stream",
     "text": [
      "5\n"
     ]
    }
   ],
   "source": [
    "thread_elements = driver.find_elements(By.CLASS_NAME, 'structItem--thread')\n",
    "print(len(thread_elements))"
   ]
  },
  {
   "cell_type": "code",
   "execution_count": 37,
   "metadata": {},
   "outputs": [],
   "source": [
    "thread_links = []\n",
    "for t in thread_elements:\n",
    "    link_elem = t.find_element(By.CLASS_NAME, \"structItem-title\").find_element(By.TAG_NAME, 'a')\n",
    "    thread_links.append(link_elem.get_attribute('href'))"
   ]
  },
  {
   "cell_type": "code",
   "execution_count": 139,
   "metadata": {},
   "outputs": [],
   "source": [
    "tl = thread_links[0]\n",
    "# l = 'https://fpvua.org/threads/jak-zrobiti-dovshe-failsafe.348/'\n",
    "driver.get(tl)\n",
    "\n"
   ]
  },
  {
   "cell_type": "code",
   "execution_count": 140,
   "metadata": {},
   "outputs": [
    {
     "name": "stdout",
     "output_type": "stream",
     "text": [
      "Yurii Perevozchykov\n"
     ]
    }
   ],
   "source": [
    "thread_starter = driver.find_element(By.CLASS_NAME, 'u-concealed').text\n",
    "print(thread_starter)"
   ]
  },
  {
   "cell_type": "code",
   "execution_count": 141,
   "metadata": {},
   "outputs": [],
   "source": [
    "user_tag = 'User'\n",
    "assistant_tag = 'Assistant'\n",
    "# def get_nested_messages(element: WebElement)"
   ]
  },
  {
   "cell_type": "code",
   "execution_count": 142,
   "metadata": {},
   "outputs": [],
   "source": [
    "#js-post-316 > div > div.message-cell.message-cell--main\n"
   ]
  },
  {
   "cell_type": "code",
   "execution_count": 143,
   "metadata": {},
   "outputs": [
    {
     "name": "stdout",
     "output_type": "stream",
     "text": [
      "15\n"
     ]
    }
   ],
   "source": [
    "article_elements = driver.find_elements(By.TAG_NAME, 'article')\n",
    "del article_elements[2-1::2]\n",
    "print(len(article_elements))"
   ]
  },
  {
   "cell_type": "code",
   "execution_count": 154,
   "metadata": {},
   "outputs": [
    {
     "name": "stdout",
     "output_type": "stream",
     "text": [
      "User: Не маю ПК або ноутбука, але маю Asus rog ally, там встановив симулятор, здається що тягне. Зараз чекаю доставку замовленої апаратури, але навіть не маю уявлення, чи зможу я то якось законектити, та і взагалі, здобути навички при такому комплекті заліза і чи є сенс, або купувати ноут/пк?\n",
      "\n"
     ]
    }
   ],
   "source": [
    "article_elements[0].find_element(By.CLASS_NAME, 'bbWrapper').text\n",
    "question = article_elements[0].find_element(By.CLASS_NAME, 'bbWrapper').text\n",
    "\n",
    "message = f\"{user_tag}: {question}\\n\"\n",
    "print(message)"
   ]
  },
  {
   "cell_type": "code",
   "execution_count": 158,
   "metadata": {},
   "outputs": [],
   "source": [
    "question_answer = {\"Question\": [], \"Answer\": []}"
   ]
  },
  {
   "cell_type": "markdown",
   "metadata": {},
   "source": [
    "in case of processing the whole thread:\n",
    "1. create base message \"User: question...\"\n",
    "2. append answers from assistant's perspective \"User: question... Assistant: answer...\". Add user responses as well \"User: question... Assistant: answer... User: question...\"\n",
    "3. Continue until reach the end of the thread."
   ]
  },
  {
   "cell_type": "code",
   "execution_count": 159,
   "metadata": {},
   "outputs": [],
   "source": [
    "for i in range(1, len(article_elements)-1, 1):\n",
    "    user = article_elements[i].find_element(By.CLASS_NAME, 'username').text # only direct response will have correct user\n",
    "    content = article_elements[i].find_element(By.CLASS_NAME, 'bbWrapper').text\n",
    "\n",
    "    if user == \"\": # skip nested responses\n",
    "        continue\n",
    "    question_answer['Question'].append(question)\n",
    "    question_answer['Answer'].append(content)\n",
    "    # new_message = f\"{message}{assistant_tag}[{user}]: {content}\\n\"\n",
    "    # print(new_message)\n"
   ]
  },
  {
   "cell_type": "code",
   "execution_count": null,
   "metadata": {},
   "outputs": [],
   "source": []
  },
  {
   "cell_type": "code",
   "execution_count": 160,
   "metadata": {},
   "outputs": [
    {
     "data": {
      "text/plain": [
       "{'Question': ['Не маю ПК або ноутбука, але маю Asus rog ally, там встановив симулятор, здається що тягне. Зараз чекаю доставку замовленої апаратури, але навіть не маю уявлення, чи зможу я то якось законектити, та і взагалі, здобути навички при такому комплекті заліза і чи є сенс, або купувати ноут/пк?',\n",
       "  'Не маю ПК або ноутбука, але маю Asus rog ally, там встановив симулятор, здається що тягне. Зараз чекаю доставку замовленої апаратури, але навіть не маю уявлення, чи зможу я то якось законектити, та і взагалі, здобути навички при такому комплекті заліза і чи є сенс, або купувати ноут/пк?',\n",
       "  'Не маю ПК або ноутбука, але маю Asus rog ally, там встановив симулятор, здається що тягне. Зараз чекаю доставку замовленої апаратури, але навіть не маю уявлення, чи зможу я то якось законектити, та і взагалі, здобути навички при такому комплекті заліза і чи є сенс, або купувати ноут/пк?',\n",
       "  'Не маю ПК або ноутбука, але маю Asus rog ally, там встановив симулятор, здається що тягне. Зараз чекаю доставку замовленої апаратури, але навіть не маю уявлення, чи зможу я то якось законектити, та і взагалі, здобути навички при такому комплекті заліза і чи є сенс, або купувати ноут/пк?'],\n",
       " 'Answer': [\"По залізу яке потрібно, можеш глянути у Ресурсах Симуляторів.\\nСтосовно під'єднання, я брав Cobra SD саме через те що можу під'єднатися по HDMI. Протестував, працює ідеально. Якщо є підтримка додаткового монітору у твоєму девайсів то буде все гуд.\",\n",
       "  'Ну воно б мало завестися. Я не знаю наскільки ці малі приставки потужні (повинні бути дуже, але хз). Просто май на увазі що для симулятора у тебе має бути хоч 100FPS стабільно, краще 120+\\nТому ноут треба буде теж ігровий',\n",
       "  \"без проблем, чи зможеш анкрашед чи тріп фпв? ні\\nз приводу тайп с, хто не обов'язково можна і з блутуз з апою\",\n",
       "  \"і не виходьте зі скрипту, поки в симі.\\nта обов'язково має бути включений радіомодуль, так що антену не від'єднуємо.\"]}"
      ]
     },
     "execution_count": 160,
     "metadata": {},
     "output_type": "execute_result"
    }
   ],
   "source": [
    "question_answer\n"
   ]
  },
  {
   "cell_type": "code",
   "execution_count": 162,
   "metadata": {},
   "outputs": [
    {
     "data": {
      "text/html": [
       "<div>\n",
       "<style scoped>\n",
       "    .dataframe tbody tr th:only-of-type {\n",
       "        vertical-align: middle;\n",
       "    }\n",
       "\n",
       "    .dataframe tbody tr th {\n",
       "        vertical-align: top;\n",
       "    }\n",
       "\n",
       "    .dataframe thead th {\n",
       "        text-align: right;\n",
       "    }\n",
       "</style>\n",
       "<table border=\"1\" class=\"dataframe\">\n",
       "  <thead>\n",
       "    <tr style=\"text-align: right;\">\n",
       "      <th></th>\n",
       "      <th>Question</th>\n",
       "      <th>Answer</th>\n",
       "    </tr>\n",
       "  </thead>\n",
       "  <tbody>\n",
       "    <tr>\n",
       "      <th>0</th>\n",
       "      <td>Не маю ПК або ноутбука, але маю Asus rog ally,...</td>\n",
       "      <td>По залізу яке потрібно, можеш глянути у Ресурс...</td>\n",
       "    </tr>\n",
       "    <tr>\n",
       "      <th>1</th>\n",
       "      <td>Не маю ПК або ноутбука, але маю Asus rog ally,...</td>\n",
       "      <td>Ну воно б мало завестися. Я не знаю наскільки ...</td>\n",
       "    </tr>\n",
       "    <tr>\n",
       "      <th>2</th>\n",
       "      <td>Не маю ПК або ноутбука, але маю Asus rog ally,...</td>\n",
       "      <td>без проблем, чи зможеш анкрашед чи тріп фпв? н...</td>\n",
       "    </tr>\n",
       "    <tr>\n",
       "      <th>3</th>\n",
       "      <td>Не маю ПК або ноутбука, але маю Asus rog ally,...</td>\n",
       "      <td>і не виходьте зі скрипту, поки в симі.\\nта обо...</td>\n",
       "    </tr>\n",
       "  </tbody>\n",
       "</table>\n",
       "</div>"
      ],
      "text/plain": [
       "                                            Question  \\\n",
       "0  Не маю ПК або ноутбука, але маю Asus rog ally,...   \n",
       "1  Не маю ПК або ноутбука, але маю Asus rog ally,...   \n",
       "2  Не маю ПК або ноутбука, але маю Asus rog ally,...   \n",
       "3  Не маю ПК або ноутбука, але маю Asus rog ally,...   \n",
       "\n",
       "                                              Answer  \n",
       "0  По залізу яке потрібно, можеш глянути у Ресурс...  \n",
       "1  Ну воно б мало завестися. Я не знаю наскільки ...  \n",
       "2  без проблем, чи зможеш анкрашед чи тріп фпв? н...  \n",
       "3  і не виходьте зі скрипту, поки в симі.\\nта обо...  "
      ]
     },
     "execution_count": 162,
     "metadata": {},
     "output_type": "execute_result"
    }
   ],
   "source": [
    "df = pd.DataFrame(question_answer)\n",
    "df"
   ]
  },
  {
   "cell_type": "code",
   "execution_count": 171,
   "metadata": {},
   "outputs": [
    {
     "name": "stdout",
     "output_type": "stream",
     "text": [
      "file2024-12-09 20:03:16.987965\n"
     ]
    }
   ],
   "source": [
    "import datetime\n",
    "\n",
    "print(f\"file{datetime.datetime.now()}\")"
   ]
  },
  {
   "cell_type": "code",
   "execution_count": 161,
   "metadata": {},
   "outputs": [],
   "source": [
    "# for e in article_elements:\n",
    "#     us = e.find_elements(By.CLASS_NAME, 'username ')\n",
    "#     # print(len(us))\n",
    "#     for u in us:\n",
    "#         print(u.text)\n",
    "#     print('----')\n",
    "#     # user = e.find_element(By.CLASS_NAME, 'username').text\n",
    "#     # main = e.find_element(By.CLASS_NAME, 'bbWrapper')\n",
    "#     # print(user, '\\n',main.text)"
   ]
  },
  {
   "cell_type": "markdown",
   "metadata": {},
   "source": [
    "## Experiments"
   ]
  },
  {
   "cell_type": "code",
   "execution_count": 69,
   "metadata": {},
   "outputs": [],
   "source": [
    "article_elem = driver.find_element(By.TAG_NAME, 'article')\n"
   ]
  },
  {
   "cell_type": "code",
   "execution_count": 70,
   "metadata": {},
   "outputs": [
    {
     "name": "stdout",
     "output_type": "stream",
     "text": [
      "Yurii Perevozchykov\n"
     ]
    }
   ],
   "source": [
    "article_author = article_elem.get_attribute('data-author')\n",
    "print(article_author)"
   ]
  },
  {
   "cell_type": "code",
   "execution_count": 67,
   "metadata": {},
   "outputs": [
    {
     "name": "stdout",
     "output_type": "stream",
     "text": [
      "Не маю ПК або ноутбука, але маю Asus rog ally, там встановив симулятор, здається що тягне. Зараз чекаю доставку замовленої апаратури, але навіть не маю уявлення, чи зможу я то якось законектити, та і взагалі, здобути навички при такому комплекті заліза і чи є сенс, або купувати ноут/пк?\n"
     ]
    }
   ],
   "source": [
    "article_content = article_elem.find_element(By.CLASS_NAME, 'bbWrapper').text\n",
    "print(article_content)"
   ]
  },
  {
   "cell_type": "code",
   "execution_count": null,
   "metadata": {},
   "outputs": [
    {
     "data": {
      "text/plain": [
       "'Не маю ПК або ноутбука, але маю Asus rog ally, там встановив симулятор, здається що тягне. Зараз чекаю доставку замовленої апаратури, але навіть не маю уявлення, чи зможу я то якось законектити, та і взагалі, здобути навички при такому комплекті заліза і чи є сенс, або купувати ноут/пк?'"
      ]
     },
     "execution_count": 63,
     "metadata": {},
     "output_type": "execute_result"
    }
   ],
   "source": []
  },
  {
   "cell_type": "code",
   "execution_count": null,
   "metadata": {},
   "outputs": [],
   "source": [
    "driver.get('https://fpvua.org/forums/pitannja-ta-vidpovidi.22/')\n",
    "btn = driver.find_element(By.CSS_SELECTOR, next_page_css_selector)\n",
    "btn.click()"
   ]
  },
  {
   "cell_type": "code",
   "execution_count": null,
   "metadata": {},
   "outputs": [],
   "source": [
    "for tl in thread_links:\n",
    "    pass"
   ]
  }
 ],
 "metadata": {
  "kernelspec": {
   "display_name": ".venv",
   "language": "python",
   "name": "python3"
  },
  "language_info": {
   "codemirror_mode": {
    "name": "ipython",
    "version": 3
   },
   "file_extension": ".py",
   "mimetype": "text/x-python",
   "name": "python",
   "nbconvert_exporter": "python",
   "pygments_lexer": "ipython3",
   "version": "3.12.3"
  }
 },
 "nbformat": 4,
 "nbformat_minor": 2
}
