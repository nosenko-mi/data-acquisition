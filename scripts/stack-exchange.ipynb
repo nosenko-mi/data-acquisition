{
 "cells": [
  {
   "cell_type": "code",
   "execution_count": 162,
   "metadata": {},
   "outputs": [],
   "source": [
    "import pandas as pd\n",
    "import numpy as np\n",
    "from stackapi import StackAPI\n",
    "import json\n",
    "from types import SimpleNamespace"
   ]
  },
  {
   "cell_type": "code",
   "execution_count": 197,
   "metadata": {},
   "outputs": [],
   "source": [
    "def chunk(lst, n):\n",
    "    \"\"\"Yield successive n-sized chunks from lst.\"\"\"\n",
    "    for i in range(0, len(lst), n):\n",
    "        yield lst[i:i + n]"
   ]
  },
  {
   "cell_type": "markdown",
   "metadata": {},
   "source": [
    "## Fetch Data"
   ]
  },
  {
   "cell_type": "code",
   "execution_count": 5,
   "metadata": {},
   "outputs": [],
   "source": [
    "site = StackAPI('drones')"
   ]
  },
  {
   "cell_type": "code",
   "execution_count": null,
   "metadata": {},
   "outputs": [],
   "source": [
    "tags= ['quadcopters', 'flight-controller', 'esc', 'brushless-motors', 'lipo-batteries', 'propellers', 'betaflight', 'multirotor', 'first-person-view', 'transmitter', 'receiver', 'video-transmitters', 'long-range-drone', 'fixed-wing', 'troubleshooting', 'antenna', 'building', 'fpv-cameras', 'battery-safety', 'electronics', 'drone-frame', 'sensor']"
   ]
  },
  {
   "cell_type": "code",
   "execution_count": 6,
   "metadata": {},
   "outputs": [
    {
     "name": "stdout",
     "output_type": "stream",
     "text": [
      "{'backoff': 0, 'has_more': False, 'page': 3, 'quota_max': 300, 'quota_remaining': 221, 'total': 0, 'items': [{'has_synonyms': True, 'is_moderator_only': False, 'is_required': False, 'count': 154, 'name': 'quadcopters'}, {'has_synonyms': False, 'is_moderator_only': False, 'is_required': False, 'count': 102, 'name': 'flight-controller'}, {'has_synonyms': False, 'is_moderator_only': False, 'is_required': False, 'count': 85, 'name': 'esc'}, {'has_synonyms': True, 'is_moderator_only': False, 'is_required': False, 'count': 80, 'name': 'brushless-motors'}, {'has_synonyms': True, 'is_moderator_only': False, 'is_required': False, 'count': 67, 'name': 'lipo-batteries'}, {'has_synonyms': False, 'is_moderator_only': False, 'is_required': False, 'count': 67, 'name': 'propellers'}, {'has_synonyms': False, 'is_moderator_only': False, 'is_required': False, 'count': 63, 'name': 'betaflight'}, {'has_synonyms': False, 'is_moderator_only': False, 'is_required': False, 'count': 59, 'name': 'multirotor'}, {'has_synonyms': True, 'is_moderator_only': False, 'is_required': False, 'count': 58, 'name': 'first-person-view'}, {'has_synonyms': False, 'is_moderator_only': False, 'is_required': False, 'count': 53, 'name': 'recommendations'}, {'has_synonyms': False, 'is_moderator_only': False, 'is_required': False, 'count': 53, 'name': 'hardware'}, {'has_synonyms': False, 'is_moderator_only': False, 'is_required': False, 'count': 49, 'name': 'batteries'}, {'has_synonyms': False, 'is_moderator_only': False, 'is_required': False, 'count': 48, 'name': 'transmitter'}, {'has_synonyms': False, 'is_moderator_only': False, 'is_required': False, 'count': 48, 'name': 'motor'}, {'has_synonyms': False, 'is_moderator_only': False, 'is_required': False, 'count': 47, 'name': 'receiver'}, {'has_synonyms': True, 'is_moderator_only': False, 'is_required': False, 'count': 45, 'name': 'regulations'}, {'has_synonyms': True, 'is_moderator_only': False, 'is_required': False, 'count': 44, 'name': 'fixed-wing'}, {'has_synonyms': False, 'is_moderator_only': False, 'is_required': False, 'count': 43, 'name': 'dji'}, {'has_synonyms': True, 'is_moderator_only': False, 'is_required': False, 'count': 37, 'name': 'video-transmitters'}, {'has_synonyms': False, 'is_moderator_only': False, 'is_required': False, 'count': 33, 'name': 'long-range-drone'}, {'has_synonyms': False, 'is_moderator_only': False, 'is_required': False, 'count': 32, 'name': 'troubleshooting'}, {'has_synonyms': False, 'is_moderator_only': False, 'is_required': False, 'count': 30, 'name': 'antenna'}, {'has_synonyms': False, 'is_moderator_only': False, 'is_required': False, 'count': 26, 'name': 'building'}, {'has_synonyms': False, 'is_moderator_only': False, 'is_required': False, 'count': 25, 'name': 'design'}, {'has_synonyms': True, 'is_moderator_only': False, 'is_required': False, 'count': 25, 'name': 'fpv-cameras'}, {'has_synonyms': False, 'is_moderator_only': False, 'is_required': False, 'count': 24, 'name': 'performance'}, {'has_synonyms': False, 'is_moderator_only': False, 'is_required': False, 'count': 24, 'name': 'battery-safety'}, {'has_synonyms': False, 'is_moderator_only': False, 'is_required': False, 'count': 23, 'name': 'diy'}, {'has_synonyms': False, 'is_moderator_only': False, 'is_required': False, 'count': 21, 'name': 'ardupilot'}, {'has_synonyms': False, 'is_moderator_only': False, 'is_required': False, 'count': 19, 'name': 'electronics'}, {'has_synonyms': False, 'is_moderator_only': False, 'is_required': False, 'count': 19, 'name': 'software'}, {'has_synonyms': False, 'is_moderator_only': False, 'is_required': False, 'count': 19, 'name': 'aerodynamics'}, {'has_synonyms': False, 'is_moderator_only': False, 'is_required': False, 'count': 18, 'name': 'drone-frame'}, {'has_synonyms': False, 'is_moderator_only': False, 'is_required': False, 'count': 18, 'name': 'raspberry-pi'}, {'has_synonyms': False, 'is_moderator_only': False, 'is_required': False, 'count': 17, 'name': 'camera'}, {'has_synonyms': False, 'is_moderator_only': False, 'is_required': False, 'count': 17, 'name': 'thrust'}, {'has_synonyms': True, 'is_moderator_only': False, 'is_required': False, 'count': 16, 'name': 'radio-frequency'}, {'has_synonyms': False, 'is_moderator_only': False, 'is_required': False, 'count': 16, 'name': 'comparison'}, {'has_synonyms': False, 'is_moderator_only': False, 'is_required': False, 'count': 16, 'name': 'sensor'}, {'has_synonyms': False, 'is_moderator_only': False, 'is_required': False, 'count': 16, 'name': 'charging'}, {'has_synonyms': False, 'is_moderator_only': False, 'is_required': False, 'count': 15, 'name': 'safety'}, {'has_synonyms': False, 'is_moderator_only': False, 'is_required': False, 'count': 15, 'name': 'autonomous'}, {'has_synonyms': False, 'is_moderator_only': False, 'is_required': False, 'count': 15, 'name': 'imu'}, {'has_synonyms': False, 'is_moderator_only': False, 'is_required': False, 'count': 15, 'name': 'homemade-drone'}, {'has_synonyms': False, 'is_moderator_only': False, 'is_required': False, 'count': 14, 'name': 'power'}, {'has_synonyms': False, 'is_moderator_only': False, 'is_required': False, 'count': 14, 'name': 'aircraft'}, {'has_synonyms': False, 'is_moderator_only': False, 'is_required': False, 'count': 14, 'name': 'helicopters'}, {'has_synonyms': False, 'is_moderator_only': False, 'is_required': False, 'count': 14, 'name': 'faa'}, {'has_synonyms': False, 'is_moderator_only': False, 'is_required': False, 'count': 13, 'name': 'video'}, {'has_synonyms': False, 'is_moderator_only': False, 'is_required': False, 'count': 13, 'name': 'servo'}, {'has_synonyms': False, 'is_moderator_only': False, 'is_required': False, 'count': 13, 'name': 'battery-cell'}, {'has_synonyms': False, 'is_moderator_only': False, 'is_required': False, 'count': 13, 'name': 'toy-grade-drone'}, {'has_synonyms': True, 'is_moderator_only': False, 'is_required': False, 'count': 13, 'name': 'under-250-grams'}, {'has_synonyms': False, 'is_moderator_only': False, 'is_required': False, 'count': 12, 'name': 'photography'}, {'has_synonyms': False, 'is_moderator_only': False, 'is_required': False, 'count': 12, 'name': 'fpv-goggles'}, {'has_synonyms': False, 'is_moderator_only': False, 'is_required': False, 'count': 12, 'name': 'compatibility'}, {'has_synonyms': False, 'is_moderator_only': False, 'is_required': False, 'count': 12, 'name': 'simulators'}, {'has_synonyms': False, 'is_moderator_only': False, 'is_required': False, 'count': 12, 'name': 'frsky'}, {'has_synonyms': False, 'is_moderator_only': False, 'is_required': False, 'count': 11, 'name': 'dji-mavic-mini'}, {'has_synonyms': False, 'is_moderator_only': False, 'is_required': False, 'count': 11, 'name': 'smartphone-app'}, {'has_synonyms': False, 'is_moderator_only': False, 'is_required': False, 'count': 11, 'name': 'firmware'}, {'has_synonyms': False, 'is_moderator_only': False, 'is_required': False, 'count': 11, 'name': 'efficiency'}, {'has_synonyms': False, 'is_moderator_only': False, 'is_required': False, 'count': 11, 'name': 'gps'}, {'has_synonyms': False, 'is_moderator_only': False, 'is_required': False, 'count': 10, 'name': 'repairs'}, {'has_synonyms': True, 'is_moderator_only': False, 'is_required': False, 'count': 10, 'name': 'brushed-motors'}, {'has_synonyms': False, 'is_moderator_only': False, 'is_required': False, 'count': 10, 'name': 'autopilot'}, {'has_synonyms': False, 'is_moderator_only': False, 'is_required': False, 'count': 10, 'name': 'video-signal'}, {'has_synonyms': False, 'is_moderator_only': False, 'is_required': False, 'count': 10, 'name': 'blheli'}, {'has_synonyms': False, 'is_moderator_only': False, 'is_required': False, 'count': 9, 'name': 'racing'}, {'has_synonyms': False, 'is_moderator_only': False, 'is_required': False, 'count': 9, 'name': 'resources'}, {'has_synonyms': False, 'is_moderator_only': False, 'is_required': False, 'count': 9, 'name': 'px4'}, {'has_synonyms': False, 'is_moderator_only': False, 'is_required': False, 'count': 9, 'name': 'unmanned-aerial-vehicle'}, {'has_synonyms': False, 'is_moderator_only': False, 'is_required': False, 'count': 9, 'name': 'wiring'}, {'has_synonyms': False, 'is_moderator_only': False, 'is_required': False, 'count': 9, 'name': 'dji-mini-2'}, {'has_synonyms': False, 'is_moderator_only': False, 'is_required': False, 'count': 9, 'name': 'range'}, {'has_synonyms': False, 'is_moderator_only': False, 'is_required': False, 'count': 8, 'name': 'dshot'}, {'has_synonyms': False, 'is_moderator_only': False, 'is_required': False, 'count': 8, 'name': 'stability'}, {'has_synonyms': False, 'is_moderator_only': False, 'is_required': False, 'count': 8, 'name': 'telemetry'}, {'has_synonyms': False, 'is_moderator_only': False, 'is_required': False, 'count': 8, 'name': 'license'}, {'has_synonyms': False, 'is_moderator_only': False, 'is_required': False, 'count': 8, 'name': 'weight'}, {'has_synonyms': False, 'is_moderator_only': False, 'is_required': False, 'count': 8, 'name': 'osd'}, {'has_synonyms': False, 'is_moderator_only': False, 'is_required': False, 'count': 7, 'name': 'pid-tuning'}, {'has_synonyms': False, 'is_moderator_only': False, 'is_required': False, 'count': 7, 'name': 'beginner'}, {'has_synonyms': False, 'is_moderator_only': False, 'is_required': False, 'count': 7, 'name': 'connectors'}, {'has_synonyms': False, 'is_moderator_only': False, 'is_required': False, 'count': 7, 'name': 'signal-strength'}, {'has_synonyms': False, 'is_moderator_only': False, 'is_required': False, 'count': 7, 'name': 'arduino-drone'}, {'has_synonyms': False, 'is_moderator_only': False, 'is_required': False, 'count': 7, 'name': 'dji-mavic-air-2'}, {'has_synonyms': False, 'is_moderator_only': False, 'is_required': False, 'count': 7, 'name': 'analog-fpv-system'}, {'has_synonyms': False, 'is_moderator_only': False, 'is_required': False, 'count': 7, 'name': 'esc-protocol'}, {'has_synonyms': False, 'is_moderator_only': False, 'is_required': False, 'count': 6, 'name': 'transmitter-protocol'}, {'has_synonyms': False, 'is_moderator_only': False, 'is_required': False, 'count': 6, 'name': 'soldering'}, {'has_synonyms': False, 'is_moderator_only': False, 'is_required': False, 'count': 6, 'name': 'flysky'}, {'has_synonyms': False, 'is_moderator_only': False, 'is_required': False, 'count': 6, 'name': 'inav'}, {'has_synonyms': False, 'is_moderator_only': False, 'is_required': False, 'count': 6, 'name': 'propeller-pitch'}, {'has_synonyms': False, 'is_moderator_only': False, 'is_required': False, 'count': 6, 'name': 'motor-mounting'}, {'has_synonyms': False, 'is_moderator_only': False, 'is_required': False, 'count': 6, 'name': 'flight-characteristics'}, {'has_synonyms': False, 'is_moderator_only': False, 'is_required': False, 'count': 6, 'name': 'frsky-xm+'}, {'has_synonyms': False, 'is_moderator_only': False, 'is_required': False, 'count': 6, 'name': 'united-kingdom'}, {'has_synonyms': False, 'is_moderator_only': False, 'is_required': False, 'count': 6, 'name': 'opentx'}, {'has_synonyms': False, 'is_moderator_only': False, 'is_required': False, 'count': 6, 'name': 'fuel'}, {'has_synonyms': False, 'is_moderator_only': False, 'is_required': False, 'count': 6, 'name': 'fc-firmware'}, {'has_synonyms': False, 'is_moderator_only': False, 'is_required': False, 'count': 6, 'name': 'united-states'}, {'has_synonyms': False, 'is_moderator_only': False, 'is_required': False, 'count': 5, 'name': 'pid'}, {'has_synonyms': False, 'is_moderator_only': False, 'is_required': False, 'count': 5, 'name': 'interference'}, {'has_synonyms': False, 'is_moderator_only': False, 'is_required': False, 'count': 5, 'name': 'maintenance'}, {'has_synonyms': False, 'is_moderator_only': False, 'is_required': False, 'count': 5, 'name': 'tinywhoop'}, {'has_synonyms': False, 'is_moderator_only': False, 'is_required': False, 'count': 5, 'name': 'material'}, {'has_synonyms': False, 'is_moderator_only': False, 'is_required': False, 'count': 5, 'name': 'engine'}, {'has_synonyms': False, 'is_moderator_only': False, 'is_required': False, 'count': 5, 'name': 'taranis'}, {'has_synonyms': False, 'is_moderator_only': False, 'is_required': False, 'count': 5, 'name': 'battery-capacity'}, {'has_synonyms': False, 'is_moderator_only': False, 'is_required': False, 'count': 5, 'name': 'video-recording'}, {'has_synonyms': False, 'is_moderator_only': False, 'is_required': False, 'count': 5, 'name': 'control-input'}, {'has_synonyms': False, 'is_moderator_only': False, 'is_required': False, 'count': 5, 'name': 'battery-discharge-rating'}, {'has_synonyms': False, 'is_moderator_only': False, 'is_required': False, 'count': 5, 'name': 'gimbal'}, {'has_synonyms': False, 'is_moderator_only': False, 'is_required': False, 'count': 5, 'name': 'online-resources'}, {'has_synonyms': False, 'is_moderator_only': False, 'is_required': False, 'count': 4, 'name': 'dji-mavic-pro-1'}, {'has_synonyms': False, 'is_moderator_only': False, 'is_required': False, 'count': 4, 'name': 'spektrum'}, {'has_synonyms': False, 'is_moderator_only': False, 'is_required': False, 'count': 4, 'name': 'motor-size'}, {'has_synonyms': False, 'is_moderator_only': False, 'is_required': False, 'count': 4, 'name': 'ready-to-fly'}, {'has_synonyms': False, 'is_moderator_only': False, 'is_required': False, 'count': 4, 'name': 'gyro'}, {'has_synonyms': False, 'is_moderator_only': False, 'is_required': False, 'count': 4, 'name': 'sbus'}, {'has_synonyms': False, 'is_moderator_only': False, 'is_required': False, 'count': 4, 'name': 'distance-limit'}, {'has_synonyms': False, 'is_moderator_only': False, 'is_required': False, 'count': 4, 'name': 'crossfire'}, {'has_synonyms': False, 'is_moderator_only': False, 'is_required': False, 'count': 4, 'name': 'dji-phantom'}, {'has_synonyms': False, 'is_moderator_only': False, 'is_required': False, 'count': 4, 'name': 'multiprotocol-module'}, {'has_synonyms': False, 'is_moderator_only': False, 'is_required': False, 'count': 4, 'name': 'dji-mavic-2'}, {'has_synonyms': False, 'is_moderator_only': False, 'is_required': False, 'count': 4, 'name': 'weather'}, {'has_synonyms': False, 'is_moderator_only': False, 'is_required': False, 'count': 4, 'name': 'airframe'}, {'has_synonyms': False, 'is_moderator_only': False, 'is_required': False, 'count': 4, 'name': 'digital-servo'}, {'has_synonyms': False, 'is_moderator_only': False, 'is_required': False, 'count': 4, 'name': 't16'}, {'has_synonyms': False, 'is_moderator_only': False, 'is_required': False, 'count': 3, 'name': 'current-sensor'}, {'has_synonyms': False, 'is_moderator_only': False, 'is_required': False, 'count': 3, 'name': 'analog-servo'}, {'has_synonyms': False, 'is_moderator_only': False, 'is_required': False, 'count': 3, 'name': 'optical-sensor'}, {'has_synonyms': False, 'is_moderator_only': False, 'is_required': False, 'count': 3, 'name': 'waterproofing'}, {'has_synonyms': False, 'is_moderator_only': False, 'is_required': False, 'count': 3, 'name': 'temperature-rating'}, {'has_synonyms': False, 'is_moderator_only': False, 'is_required': False, 'count': 3, 'name': 'modification'}, {'has_synonyms': False, 'is_moderator_only': False, 'is_required': False, 'count': 3, 'name': 'iflight'}, {'has_synonyms': False, 'is_moderator_only': False, 'is_required': False, 'count': 3, 'name': 'buddy-box'}, {'has_synonyms': True, 'is_moderator_only': False, 'is_required': False, 'count': 3, 'name': 'team-blacksheep'}, {'has_synonyms': False, 'is_moderator_only': False, 'is_required': False, 'count': 3, 'name': 'rotors'}, {'has_synonyms': False, 'is_moderator_only': False, 'is_required': False, 'count': 3, 'name': 'f4'}, {'has_synonyms': False, 'is_moderator_only': False, 'is_required': False, 'count': 3, 'name': 'crossfire-nano'}, {'has_synonyms': False, 'is_moderator_only': False, 'is_required': False, 'count': 3, 'name': 'accessories'}, {'has_synonyms': False, 'is_moderator_only': False, 'is_required': False, 'count': 3, 'name': 'training'}, {'has_synonyms': False, 'is_moderator_only': False, 'is_required': False, 'count': 3, 'name': 'dji-air-unit'}, {'has_synonyms': False, 'is_moderator_only': False, 'is_required': False, 'count': 3, 'name': 'center-of-gravity'}, {'has_synonyms': False, 'is_moderator_only': False, 'is_required': False, 'count': 3, 'name': 'fs-i6x'}, {'has_synonyms': False, 'is_moderator_only': False, 'is_required': False, 'count': 3, 'name': 'altimeter'}, {'has_synonyms': False, 'is_moderator_only': False, 'is_required': False, 'count': 3, 'name': 'mission-computer'}, {'has_synonyms': False, 'is_moderator_only': False, 'is_required': False, 'count': 3, 'name': 'expresslrs'}, {'has_synonyms': False, 'is_moderator_only': False, 'is_required': False, 'count': 2, 'name': 'arduino-mega-2560'}, {'has_synonyms': False, 'is_moderator_only': False, 'is_required': False, 'count': 2, 'name': 'filters'}, {'has_synonyms': False, 'is_moderator_only': False, 'is_required': False, 'count': 2, 'name': 'bidirectional-dshot'}, {'has_synonyms': False, 'is_moderator_only': False, 'is_required': False, 'count': 2, 'name': 'drag'}, {'has_synonyms': False, 'is_moderator_only': False, 'is_required': False, 'count': 2, 'name': 'decorations'}, {'has_synonyms': False, 'is_moderator_only': False, 'is_required': False, 'count': 2, 'name': 'control-surface'}, {'has_synonyms': False, 'is_moderator_only': False, 'is_required': False, 'count': 2, 'name': 'spec-sheet'}, {'has_synonyms': False, 'is_moderator_only': False, 'is_required': False, 'count': 2, 'name': 'thrust-angle'}, {'has_synonyms': False, 'is_moderator_only': False, 'is_required': False, 'count': 2, 'name': 'taranis-qx7'}, {'has_synonyms': False, 'is_moderator_only': False, 'is_required': False, 'count': 2, 'name': 'paint'}, {'has_synonyms': False, 'is_moderator_only': False, 'is_required': False, 'count': 2, 'name': 'blackbox'}, {'has_synonyms': False, 'is_moderator_only': False, 'is_required': False, 'count': 2, 'name': 'fat-shark'}, {'has_synonyms': False, 'is_moderator_only': False, 'is_required': False, 'count': 2, 'name': 'trim'}, {'has_synonyms': False, 'is_moderator_only': False, 'is_required': False, 'count': 2, 'name': 'indoors'}, {'has_synonyms': False, 'is_moderator_only': False, 'is_required': False, 'count': 2, 'name': 'turtle-mode'}, {'has_synonyms': False, 'is_moderator_only': False, 'is_required': False, 'count': 2, 'name': 'fine-tuning'}, {'has_synonyms': False, 'is_moderator_only': False, 'is_required': False, 'count': 2, 'name': 'jumper'}, {'has_synonyms': False, 'is_moderator_only': False, 'is_required': False, 'count': 2, 'name': 'uart'}, {'has_synonyms': True, 'is_moderator_only': False, 'is_required': False, 'count': 2, 'name': 'out-of-control'}, {'has_synonyms': False, 'is_moderator_only': False, 'is_required': False, 'count': 2, 'name': 'germany'}, {'has_synonyms': False, 'is_moderator_only': False, 'is_required': False, 'count': 2, 'name': 'winter'}, {'has_synonyms': False, 'is_moderator_only': False, 'is_required': False, 'count': 2, 'name': 'storage'}, {'has_synonyms': False, 'is_moderator_only': False, 'is_required': False, 'count': 2, 'name': 'jet'}, {'has_synonyms': False, 'is_moderator_only': False, 'is_required': False, 'count': 2, 'name': 'tricopter'}, {'has_synonyms': False, 'is_moderator_only': False, 'is_required': False, 'count': 2, 'name': 'rssi'}, {'has_synonyms': False, 'is_moderator_only': False, 'is_required': False, 'count': 2, 'name': 'frsky-xm'}, {'has_synonyms': False, 'is_moderator_only': False, 'is_required': False, 'count': 2, 'name': 'tools'}, {'has_synonyms': False, 'is_moderator_only': False, 'is_required': False, 'count': 2, 'name': 'barometer'}, {'has_synonyms': False, 'is_moderator_only': False, 'is_required': False, 'count': 2, 'name': 'rangefinder'}, {'has_synonyms': False, 'is_moderator_only': False, 'is_required': False, 'count': 2, 'name': 'ultrasonic-sensor'}, {'has_synonyms': False, 'is_moderator_only': False, 'is_required': False, 'count': 2, 'name': 'aerobatics'}, {'has_synonyms': False, 'is_moderator_only': False, 'is_required': False, 'count': 2, 'name': 'fabrication'}, {'has_synonyms': False, 'is_moderator_only': False, 'is_required': False, 'count': 2, 'name': 'best-practice'}, {'has_synonyms': False, 'is_moderator_only': False, 'is_required': False, 'count': 2, 'name': 'audio'}, {'has_synonyms': False, 'is_moderator_only': False, 'is_required': False, 'count': 2, 'name': 'rules'}, {'has_synonyms': False, 'is_moderator_only': False, 'is_required': False, 'count': 1, 'name': 'armed'}, {'has_synonyms': False, 'is_moderator_only': False, 'is_required': False, 'count': 1, 'name': 'france'}, {'has_synonyms': False, 'is_moderator_only': False, 'is_required': False, 'count': 1, 'name': 'jst'}, {'has_synonyms': False, 'is_moderator_only': False, 'is_required': False, 'count': 1, 'name': 'laforge'}, {'has_synonyms': False, 'is_moderator_only': False, 'is_required': False, 'count': 1, 'name': 'headless-mode'}, {'has_synonyms': False, 'is_moderator_only': False, 'is_required': False, 'count': 1, 'name': 'xing'}, {'has_synonyms': False, 'is_moderator_only': False, 'is_required': False, 'count': 1, 'name': 'motor-bearings'}, {'has_synonyms': False, 'is_moderator_only': False, 'is_required': False, 'count': 1, 'name': 'transmitter-gimbal'}, {'has_synonyms': False, 'is_moderator_only': False, 'is_required': False, 'count': 1, 'name': 'tbs-unify-pro32-nano'}, {'has_synonyms': False, 'is_moderator_only': False, 'is_required': False, 'count': 1, 'name': 'crossfire-lite'}, {'has_synonyms': False, 'is_moderator_only': False, 'is_required': False, 'count': 1, 'name': 'unify-pro32-hv'}, {'has_synonyms': False, 'is_moderator_only': False, 'is_required': False, 'count': 1, 'name': 'immortal-t'}, {'has_synonyms': False, 'is_moderator_only': False, 'is_required': False, 'count': 1, 'name': 'india'}, {'has_synonyms': False, 'is_moderator_only': False, 'is_required': False, 'count': 1, 'name': 'history'}, {'has_synonyms': False, 'is_moderator_only': False, 'is_required': False, 'count': 1, 'name': 'transportation'}, {'has_synonyms': False, 'is_moderator_only': False, 'is_required': False, 'count': 1, 'name': 'windup'}, {'has_synonyms': False, 'is_moderator_only': False, 'is_required': False, 'count': 1, 'name': 'spinup'}, {'has_synonyms': False, 'is_moderator_only': False, 'is_required': False, 'count': 1, 'name': 'flyaway'}, {'has_synonyms': False, 'is_moderator_only': False, 'is_required': False, 'count': 1, 'name': 'kk2.1.6'}, {'has_synonyms': False, 'is_moderator_only': False, 'is_required': False, 'count': 1, 'name': 'competitions'}, {'has_synonyms': False, 'is_moderator_only': False, 'is_required': False, 'count': 1, 'name': 'ireland'}, {'has_synonyms': False, 'is_moderator_only': False, 'is_required': False, 'count': 1, 'name': 'puerto-rico'}, {'has_synonyms': False, 'is_moderator_only': False, 'is_required': False, 'count': 1, 'name': 'dji-spark'}, {'has_synonyms': False, 'is_moderator_only': False, 'is_required': False, 'count': 1, 'name': 'betaflight-cli'}, {'has_synonyms': False, 'is_moderator_only': False, 'is_required': False, 'count': 1, 'name': 'return-to-home'}, {'has_synonyms': False, 'is_moderator_only': False, 'is_required': False, 'count': 1, 'name': 'lihv-batteries'}, {'has_synonyms': False, 'is_moderator_only': False, 'is_required': False, 'count': 1, 'name': 'dvr'}, {'has_synonyms': False, 'is_moderator_only': False, 'is_required': False, 'count': 1, 'name': 'dsmx'}, {'has_synonyms': False, 'is_moderator_only': False, 'is_required': False, 'count': 1, 'name': 'kline-fogleman'}, {'has_synonyms': False, 'is_moderator_only': False, 'is_required': False, 'count': 1, 'name': 'outdated-technology'}, {'has_synonyms': False, 'is_moderator_only': False, 'is_required': False, 'count': 1, 'name': 'rubber-band'}, {'has_synonyms': False, 'is_moderator_only': False, 'is_required': False, 'count': 1, 'name': 'frsky-r9m'}, {'has_synonyms': False, 'is_moderator_only': False, 'is_required': False, 'count': 1, 'name': 'zd550'}, {'has_synonyms': False, 'is_moderator_only': False, 'is_required': False, 'count': 1, 'name': 'canada'}, {'has_synonyms': False, 'is_moderator_only': False, 'is_required': False, 'count': 1, 'name': 'flying-fields'}, {'has_synonyms': False, 'is_moderator_only': False, 'is_required': False, 'count': 1, 'name': 'sub-2-kilograms'}, {'has_synonyms': False, 'is_moderator_only': False, 'is_required': False, 'count': 1, 'name': 'australia'}, {'has_synonyms': False, 'is_moderator_only': False, 'is_required': False, 'count': 1, 'name': 'programming'}, {'has_synonyms': False, 'is_moderator_only': False, 'is_required': False, 'count': 1, 'name': 'untagged'}]}\n"
     ]
    }
   ],
   "source": [
    "# tags = site.fetch('tags', order='desc') # no reason to get all tags"
   ]
  },
  {
   "cell_type": "code",
   "execution_count": 4,
   "metadata": {},
   "outputs": [
    {
     "name": "stdout",
     "output_type": "stream",
     "text": [
      "{'backoff': 0, 'has_more': False, 'page': 1, 'quota_max': 300, 'quota_remaining': 228, 'total': 0, 'items': [{'tags': ['regulations', 'first-person-view', 'faa'], 'owner': {'user_type': 'does_not_exist', 'display_name': 'user149'}, 'is_answered': True, 'view_count': 4169, 'accepted_answer_id': 673, 'answer_count': 4, 'score': 9, 'last_activity_date': 1643524465, 'creation_date': 1587447331, 'last_edit_date': 1587750108, 'question_id': 671, 'content_license': 'CC BY-SA 4.0', 'link': 'https://drones.stackexchange.com/questions/671/isn-t-flying-fpv-drones-illegal-accoding-to-faa-rules', 'title': 'Isn’t flying FPV drones illegal accoding to FAA rules?', 'body': '<p>I understand there is First Person View (FPV) drone flying which involves putting on a headset and controlling the drone from the live camera feed,</p>\\n\\n<p>The <a href=\"https://www.faa.gov/uas/media/Part_107_Summary.pdf\" rel=\"noreferrer\">FAA Rules For Unmanned Aircraft Part 107 state</a>:</p>\\n\\n<blockquote>\\n  <p><strong>Visual line-of-sight (VLOS) only; the unmanned aircraft must remain within VLOS of the remote pilot in command and the\\n  person manipulating the flight controls of the small UAS.</strong></p>\\n</blockquote>\\n\\n<p>If that is true, then surely FPV flying is illegal as you don’t maintain a visual line of sight with the aircraft?</p>\\n'}]}\n"
     ]
    }
   ],
   "source": [
    "print(site.fetch('questions/{ids}', ids=[671], filter='withbody'))"
   ]
  },
  {
   "cell_type": "code",
   "execution_count": 9,
   "metadata": {},
   "outputs": [],
   "source": [
    "questions = site.fetch('questions', sort='votes', filter='withbody')"
   ]
  },
  {
   "cell_type": "code",
   "execution_count": 15,
   "metadata": {},
   "outputs": [
    {
     "data": {
      "text/plain": [
       "{'tags': ['lipo-batteries', 'batteries', 'battery-safety', 'safety'],\n",
       " 'owner': {'account_id': 5863961,\n",
       "  'reputation': 445,\n",
       "  'user_id': 129,\n",
       "  'user_type': 'registered',\n",
       "  'profile_image': 'https://lh4.googleusercontent.com/-C2dQaeBkWPI/AAAAAAAAAAI/AAAAAAAAAME/K34Iu2r8huI/photo.jpg?sz=256',\n",
       "  'display_name': 'David O.',\n",
       "  'link': 'https://drones.stackexchange.com/users/129/david-o'},\n",
       " 'is_answered': True,\n",
       " 'view_count': 943,\n",
       " 'accepted_answer_id': 76,\n",
       " 'answer_count': 2,\n",
       " 'score': 21,\n",
       " 'last_activity_date': 1595175922,\n",
       " 'creation_date': 1586898471,\n",
       " 'last_edit_date': 1595175922,\n",
       " 'question_id': 72,\n",
       " 'content_license': 'CC BY-SA 4.0',\n",
       " 'link': 'https://drones.stackexchange.com/questions/72/is-it-safe-to-fly-lipo-batteries-after-they-get-puffy',\n",
       " 'title': 'Is it safe to fly LiPo batteries after they get &quot;puffy&quot;?',\n",
       " 'body': '<p>Some of my LiPo batteries got &quot;puffy&quot; after a few months. Is it still safe to fly them, or should I safely dispose of them?</p>\\n<p><a href=\"https://i.sstatic.net/RnlJd.jpg\" rel=\"noreferrer\"><img src=\"https://i.sstatic.net/RnlJdm.jpg\" alt=\"Photo of puffy 1s lipo battery\" /></a></p>\\n'}"
      ]
     },
     "execution_count": 15,
     "metadata": {},
     "output_type": "execute_result"
    }
   ],
   "source": [
    "questions['items'][0]"
   ]
  },
  {
   "cell_type": "code",
   "execution_count": 16,
   "metadata": {},
   "outputs": [
    {
     "data": {
      "text/plain": [
       "76"
      ]
     },
     "execution_count": 16,
     "metadata": {},
     "output_type": "execute_result"
    }
   ],
   "source": [
    "questions['items'][0]['accepted_answer_id']"
   ]
  },
  {
   "cell_type": "code",
   "execution_count": 31,
   "metadata": {},
   "outputs": [
    {
     "data": {
      "text/plain": [
       "dict_keys(['tags', 'owner', 'is_answered', 'view_count', 'accepted_answer_id', 'answer_count', 'score', 'last_activity_date', 'creation_date', 'last_edit_date', 'question_id', 'content_license', 'link', 'title', 'body'])"
      ]
     },
     "execution_count": 31,
     "metadata": {},
     "output_type": "execute_result"
    }
   ],
   "source": [
    "questions['items'][0].keys()"
   ]
  },
  {
   "cell_type": "markdown",
   "metadata": {},
   "source": [
    "## Create DataFrame"
   ]
  },
  {
   "cell_type": "code",
   "execution_count": 44,
   "metadata": {},
   "outputs": [],
   "source": [
    "data = {\n",
    "    'Title': [],\n",
    "    'Question': [],\n",
    "    'Answer': [],\n",
    "    'Source': [],\n",
    "    'QuestionID': []\n",
    "}\n",
    "\n",
    "for q in questions['items']:\n",
    "    data['Title'].append(q['title'])\n",
    "    data['Question'].append(q['body'])\n",
    "    if q['is_answered'] and 'accepted_answer_id' in q.keys():\n",
    "        data['Answer'].append(q['accepted_answer_id'])\n",
    "    else:\n",
    "        data['Answer'].append(None)\n",
    "    data['Source'].append(q['link'])\n",
    "    data['QuestionID'].append(q['question_id'])"
   ]
  },
  {
   "cell_type": "code",
   "execution_count": 45,
   "metadata": {},
   "outputs": [],
   "source": [
    "df = pd.DataFrame(data)"
   ]
  },
  {
   "cell_type": "code",
   "execution_count": 46,
   "metadata": {},
   "outputs": [
    {
     "data": {
      "text/html": [
       "<div>\n",
       "<style scoped>\n",
       "    .dataframe tbody tr th:only-of-type {\n",
       "        vertical-align: middle;\n",
       "    }\n",
       "\n",
       "    .dataframe tbody tr th {\n",
       "        vertical-align: top;\n",
       "    }\n",
       "\n",
       "    .dataframe thead th {\n",
       "        text-align: right;\n",
       "    }\n",
       "</style>\n",
       "<table border=\"1\" class=\"dataframe\">\n",
       "  <thead>\n",
       "    <tr style=\"text-align: right;\">\n",
       "      <th></th>\n",
       "      <th>Title</th>\n",
       "      <th>Question</th>\n",
       "      <th>Answer</th>\n",
       "      <th>Source</th>\n",
       "      <th>QuestionID</th>\n",
       "    </tr>\n",
       "  </thead>\n",
       "  <tbody>\n",
       "    <tr>\n",
       "      <th>0</th>\n",
       "      <td>Is it safe to fly LiPo batteries after they ge...</td>\n",
       "      <td>&lt;p&gt;Some of my LiPo batteries got &amp;quot;puffy&amp;q...</td>\n",
       "      <td>76.0</td>\n",
       "      <td>https://drones.stackexchange.com/questions/72/...</td>\n",
       "      <td>72</td>\n",
       "    </tr>\n",
       "    <tr>\n",
       "      <th>1</th>\n",
       "      <td>Why do multirotors usually have four propellors?</td>\n",
       "      <td>&lt;p&gt;I've observed that hover-capable drones alm...</td>\n",
       "      <td>323.0</td>\n",
       "      <td>https://drones.stackexchange.com/questions/322...</td>\n",
       "      <td>322</td>\n",
       "    </tr>\n",
       "    <tr>\n",
       "      <th>2</th>\n",
       "      <td>How long can a LiPo pack be kept fully dischar...</td>\n",
       "      <td>&lt;p&gt;There is a reason LiPo packs are recommende...</td>\n",
       "      <td>NaN</td>\n",
       "      <td>https://drones.stackexchange.com/questions/74/...</td>\n",
       "      <td>74</td>\n",
       "    </tr>\n",
       "    <tr>\n",
       "      <th>3</th>\n",
       "      <td>How does a quadcopter yaw?</td>\n",
       "      <td>&lt;p&gt;I've always wondered how a quadcopter actua...</td>\n",
       "      <td>419.0</td>\n",
       "      <td>https://drones.stackexchange.com/questions/415...</td>\n",
       "      <td>415</td>\n",
       "    </tr>\n",
       "    <tr>\n",
       "      <th>4</th>\n",
       "      <td>What is a good alternative to carbon fibre for...</td>\n",
       "      <td>&lt;p&gt;I am making a diy quadcopter and I need a s...</td>\n",
       "      <td>NaN</td>\n",
       "      <td>https://drones.stackexchange.com/questions/877...</td>\n",
       "      <td>877</td>\n",
       "    </tr>\n",
       "  </tbody>\n",
       "</table>\n",
       "</div>"
      ],
      "text/plain": [
       "                                               Title  \\\n",
       "0  Is it safe to fly LiPo batteries after they ge...   \n",
       "1   Why do multirotors usually have four propellors?   \n",
       "2  How long can a LiPo pack be kept fully dischar...   \n",
       "3                         How does a quadcopter yaw?   \n",
       "4  What is a good alternative to carbon fibre for...   \n",
       "\n",
       "                                            Question  Answer  \\\n",
       "0  <p>Some of my LiPo batteries got &quot;puffy&q...    76.0   \n",
       "1  <p>I've observed that hover-capable drones alm...   323.0   \n",
       "2  <p>There is a reason LiPo packs are recommende...     NaN   \n",
       "3  <p>I've always wondered how a quadcopter actua...   419.0   \n",
       "4  <p>I am making a diy quadcopter and I need a s...     NaN   \n",
       "\n",
       "                                              Source  QuestionID  \n",
       "0  https://drones.stackexchange.com/questions/72/...          72  \n",
       "1  https://drones.stackexchange.com/questions/322...         322  \n",
       "2  https://drones.stackexchange.com/questions/74/...          74  \n",
       "3  https://drones.stackexchange.com/questions/415...         415  \n",
       "4  https://drones.stackexchange.com/questions/877...         877  "
      ]
     },
     "execution_count": 46,
     "metadata": {},
     "output_type": "execute_result"
    }
   ],
   "source": [
    "df[:5]"
   ]
  },
  {
   "cell_type": "code",
   "execution_count": 47,
   "metadata": {},
   "outputs": [
    {
     "data": {
      "text/plain": [
       "Title           0\n",
       "Question        0\n",
       "Answer        187\n",
       "Source          0\n",
       "QuestionID      0\n",
       "dtype: int64"
      ]
     },
     "execution_count": 47,
     "metadata": {},
     "output_type": "execute_result"
    }
   ],
   "source": [
    "df.isnull().sum(axis = 0)"
   ]
  },
  {
   "cell_type": "code",
   "execution_count": 51,
   "metadata": {},
   "outputs": [
    {
     "name": "stdout",
     "output_type": "stream",
     "text": [
      "<class 'pandas.core.frame.DataFrame'>\n",
      "RangeIndex: 500 entries, 0 to 499\n",
      "Data columns (total 5 columns):\n",
      " #   Column      Non-Null Count  Dtype  \n",
      "---  ------      --------------  -----  \n",
      " 0   Title       500 non-null    object \n",
      " 1   Question    500 non-null    object \n",
      " 2   Answer      313 non-null    float64\n",
      " 3   Source      500 non-null    object \n",
      " 4   QuestionID  500 non-null    int64  \n",
      "dtypes: float64(1), int64(1), object(3)\n",
      "memory usage: 19.7+ KB\n"
     ]
    }
   ],
   "source": [
    "df.info()"
   ]
  },
  {
   "cell_type": "code",
   "execution_count": 195,
   "metadata": {},
   "outputs": [],
   "source": [
    "answer_ids = df.dropna()['Answer'].map(int).tolist()"
   ]
  },
  {
   "cell_type": "code",
   "execution_count": 199,
   "metadata": {},
   "outputs": [],
   "source": [
    "nan_question_ids_chunked = chunk(answer_ids, 100)\n",
    "chunks = [c for c in nan_question_ids_chunked]"
   ]
  },
  {
   "cell_type": "code",
   "execution_count": 200,
   "metadata": {},
   "outputs": [
    {
     "name": "stdout",
     "output_type": "stream",
     "text": [
      "4\n"
     ]
    }
   ],
   "source": [
    "print(len(chunks))"
   ]
  },
  {
   "cell_type": "code",
   "execution_count": 201,
   "metadata": {},
   "outputs": [],
   "source": [
    "answers_1 = []\n",
    "for c in chunks:\n",
    "    fetched = site.fetch('questions/{ids}/answers', ids=c, filter='withbody', sort='votes', order='desc')\n",
    "    answers_1.extend(fetched['items'])"
   ]
  },
  {
   "cell_type": "code",
   "execution_count": 202,
   "metadata": {},
   "outputs": [
    {
     "data": {
      "text/plain": [
       "[]"
      ]
     },
     "execution_count": 202,
     "metadata": {},
     "output_type": "execute_result"
    }
   ],
   "source": []
  },
  {
   "cell_type": "markdown",
   "metadata": {},
   "source": [
    "## Fill missing answers"
   ]
  },
  {
   "cell_type": "code",
   "execution_count": 56,
   "metadata": {},
   "outputs": [],
   "source": [
    "nan_rows = df[df['Answer'].isnull()]\n"
   ]
  },
  {
   "cell_type": "code",
   "execution_count": 60,
   "metadata": {},
   "outputs": [],
   "source": [
    "nan_question_ids = list(nan_rows['QuestionID'])"
   ]
  },
  {
   "cell_type": "code",
   "execution_count": 111,
   "metadata": {},
   "outputs": [],
   "source": []
  },
  {
   "cell_type": "code",
   "execution_count": 112,
   "metadata": {},
   "outputs": [],
   "source": [
    "nan_question_ids_chunked = chunk(nan_question_ids, 100) # 100 is an ids limit for a query\n",
    "chunks = [c for c in nan_question_ids_chunked]"
   ]
  },
  {
   "cell_type": "code",
   "execution_count": 108,
   "metadata": {},
   "outputs": [],
   "source": []
  },
  {
   "cell_type": "code",
   "execution_count": 118,
   "metadata": {},
   "outputs": [],
   "source": [
    "answers = []\n",
    "for c in chunks:\n",
    "    fetched = site.fetch('questions/{ids}/answers', ids=c, filter='withbody', sort='votes', order='desc')\n",
    "    answers.extend(fetched['items'])"
   ]
  },
  {
   "cell_type": "code",
   "execution_count": 120,
   "metadata": {},
   "outputs": [
    {
     "data": {
      "text/plain": [
       "287"
      ]
     },
     "execution_count": 120,
     "metadata": {},
     "output_type": "execute_result"
    }
   ],
   "source": [
    "len(answers)"
   ]
  },
  {
   "cell_type": "code",
   "execution_count": 123,
   "metadata": {},
   "outputs": [
    {
     "data": {
      "text/plain": [
       "{'owner': {'account_id': 4684073,\n",
       "  'reputation': 2997,\n",
       "  'user_id': 272,\n",
       "  'user_type': 'registered',\n",
       "  'profile_image': 'https://i.sstatic.net/6gXJd.png?s=256',\n",
       "  'display_name': 'FlashCactus',\n",
       "  'link': 'https://drones.stackexchange.com/users/272/flashcactus'},\n",
       " 'is_accepted': False,\n",
       " 'score': 21,\n",
       " 'last_activity_date': 1669282935,\n",
       " 'last_edit_date': 1669282935,\n",
       " 'creation_date': 1588112470,\n",
       " 'answer_id': 881,\n",
       " 'question_id': 877,\n",
       " 'content_license': 'CC BY-SA 4.0',\n",
       " 'body': '<p>There\\'s no denying the fact that when it comes to materials that are strong, stiff and light at the same time, carbon fiber is king. If you\\'re looking for performance, there\\'s no way around it. If performance is not the most important thing in the world, however... Well, there are several options.</p>\\n<p>Before I start listing these, I must point out that <em>all frames break</em>. Some break more easily than others, but you can\\'t have an unbreakable frame. The question is how you repair it <em>when</em> it breaks, and the answer depends on the material.</p>\\n<ul>\\n<li><strong>Plastic frames</strong> are actually a very popular option in micro-sized quadcopters that only weigh tens of grams. These frames usually feature a non-flat shape, prop guards and other features built into them. A subset of those, 3D printed frames, are also quite widely used in DIY designs of larger sizes, and, as everything 3D printed, are a good way of prototyping your design before moving on to other materials. In some cases, where performance is not a concern (for example, if your main focus is having a platform for testing algorithms for which flight time or range is not important at the time, or just want to play around with a design) you may even never move on from a 3D printed frame. While these tend to be heavy and/or brittle compared to other materials, there are some exceptionally light designs, and depending on the intended applications, durability might not be a concern. Besides, if you do break one of these, you can always just print a new one.\\nAlso keep in mind that there are many different specialized 3D plastics available, such as carbon-impregnated ones, lightweight foaming PLA and others, which, along with clever design, can in fact give you a fairly performant, stiff and/or light frame. All of these have tradeoffs, however, so do your research.</li>\\n<li><strong>Wood and metal/fiberglass</strong> is a staple of &quot;oldschool&quot;, large (8&quot;+) DIY drones from the KK2/Naze era. As the drone gets larger, heavier frames tend to impede it less, and any crash could easily break an arm just due to the sheer weight of the drone, no matter what the arm is made of. So this kind of design focuses on repairability instead: one can easily make tens of wooden arms in their workshop for very cheap and swap them when they break. Potentially, one could try to make a smaller wooden frame as well, although at this point lightness becomes important, so I\\'d advise to stick to lighter woods if you do, maybe even balsa.\\n<ul>\\n<li>Full-metal frames are not unheard of as well; Aluminium and titanium are widely-accepted building materials in aviation and actually tend to have better performance than wood. You\\'ll have to use tubes/other non-flat shapes, though.</li>\\n<li>Even though you\\'ve ruled out carbon fiber, you may be referring specifically to CNC machining of frames out of flat sheets. Premade carbon fiber elements such as strips and tubing are readily available for order online and are easy to work with using basic tools. A lot of larger drones today are made using the same basic technologies as the wood/metal drones of old, but with arms out of carbon fiber tubes instead of wooden planks. If you\\'re building a large drone, this is a very feasible yet high-performance option.</li>\\n</ul>\\n</li>\\n<li>Finally, <strong>Pure fiberglass composite</strong>. Glass fiber composites are in fact even stronger per unit weight than their carbon fiber counterparts, but significantly less stiff, which is why you don\\'t usually see them in performance drones: In flight, dynamic and resonant characteristics are more significant than pure strength, the latter coming into play only when you crash. But if the drone flies better, you\\'re less likely to crash in the first place. Still, the difference in stiffness of the material can be overcome with clever profiles, and glass is generally easier to work with than carbon, so there are some niche uses even in performance designs.\\n<ul>\\n<li>The first of them is very large drones, which tend not to care as much about neither weight nor aerobatic performance. Here, glass fiber can shine if you\\'ve got the facilities to manufacture it. That said, if you\\'re building a very large drone, the frame is likely to be a very small fraction of its cost, so you might just as well order a custom carbon design (or use premade carbon parts like the previous option).</li>\\n<li>The more interesting option, however, is a <strong>PCB frame</strong>, in which the frame is\\nnot just a structural component, but also carries all the electronics\\nthat the drone needs to fly. Some fantastically lightweight designs\\nhave been made using this technique: even though the glass fiber\\nitself does not perform as well as carbon, the design makes up for it by ditching\\nall the other PCB and wiring weight that would otherwise be carried\\n<em>on top</em> of the frame in a traditional design. While not optimal for sporty flying, this is the perfect option for a long-range/long\\nflight time autonomous design... if you can lay out the PCB, as all\\nof the components (flight controller, ESCs, vTX, etc) have to be\\nintegrated into it.</li>\\n</ul>\\n</li>\\n</ul>\\n<hr />\\n<h2>Some examples for inspiration:</h2>\\n<h3>Plastic frames</h3>\\n<p>Brushed micro quadcopter (tiny whoop) with molded plastic frame:\\n<a href=\"https://i.sstatic.net/70kdE.png\" rel=\"nofollow noreferrer\"><img src=\"https://i.sstatic.net/70kdE.png\" alt=\"Cockroach whoop\" /></a></p>\\n<p>2&quot; brushless copter with molded frame:\\n<a href=\"https://i.sstatic.net/OYmsu.jpg\" rel=\"nofollow noreferrer\"><img src=\"https://i.sstatic.net/OYmsu.jpg\" alt=\"GTR239\" /></a></p>\\n<p>Brushless quadcopters with 3D printed frame:\\n<a href=\"https://i.sstatic.net/f7qAf.jpg\" rel=\"nofollow noreferrer\"><img src=\"https://i.sstatic.net/f7qAf.jpg\" alt=\"3dp brushless 2\" /></a>\\n<a href=\"https://i.sstatic.net/Beab5.png\" rel=\"nofollow noreferrer\"><img src=\"https://i.sstatic.net/Beab5.png\" alt=\"3dp brushless\" /></a></p>\\n<p>Foldable brushed 3D printed frame:\\n<a href=\"https://i.sstatic.net/fYpF1.jpg\" rel=\"nofollow noreferrer\"><img src=\"https://i.sstatic.net/fYpF1.jpg\" alt=\"Foldable 3dp\" /></a></p>\\n<h3>Wood/metal homemade frames:</h3>\\n<p>Typical fully wooden H frames of the KK2/Naze era:\\n<a href=\"https://i.sstatic.net/TkAtJ.png\" rel=\"nofollow noreferrer\"><img src=\"https://i.sstatic.net/TkAtJ.png\" alt=\"Wooden H frame\" /></a>\\n<a href=\"https://i.sstatic.net/UcNqb.jpg\" rel=\"nofollow noreferrer\"><img src=\"https://i.sstatic.net/UcNqb.jpg\" alt=\"Wooden H quad\" /></a>\\n<a href=\"https://i.sstatic.net/eBdeO.png\" rel=\"nofollow noreferrer\"><img src=\"https://i.sstatic.net/eBdeO.png\" alt=\"alternative wooden H in flight\" /></a></p>\\n<p>Classic X frame with metal/plastic center plate and wooden arms:\\n<a href=\"https://i.pinimg.com/originals/b3/6a/89/b36a8958aa1ed2c55f6c9ab8efb9c990.jpg\" rel=\"nofollow noreferrer\"><img src=\"https://i.pinimg.com/originals/b3/6a/89/b36a8958aa1ed2c55f6c9ab8efb9c990.jpg\" alt=\"Wooden X\" /></a></p>\\n<p>Very simple wooden X frame:\\n<a href=\"https://multicopterbuild.files.wordpress.com/2012/03/dsc_1623.jpg\" rel=\"nofollow noreferrer\"><img src=\"https://multicopterbuild.files.wordpress.com/2012/03/dsc_1623.jpg\" alt=\"simple wooden X\" /></a></p>\\n<p>Small drone with laser cut wooden frame:\\n<a href=\"https://i.sstatic.net/L9snF.png\" rel=\"nofollow noreferrer\"><img src=\"https://i.sstatic.net/L9snF.png\" alt=\"Flone\" /></a></p>\\n<p>Frame with metal arms:\\n<a href=\"https://i.sstatic.net/OvGmN.jpg\" rel=\"nofollow noreferrer\"><img src=\"https://i.sstatic.net/OvGmN.jpg\" alt=\"metal arm frame\" /></a></p>\\n<p>Full-metal frame:\\n<a href=\"https://i.sstatic.net/hIVhN.png\" rel=\"nofollow noreferrer\"><img src=\"https://i.sstatic.net/hIVhN.png\" alt=\"metal frame\" /></a></p>\\n<p>H frame out of carbon tubing with 3D printed brackets holding it together:\\n<a href=\"https://i.sstatic.net/rYBCZ.png\" rel=\"nofollow noreferrer\"><img src=\"https://i.sstatic.net/rYBCZ.png\" alt=\"Carbon H\" /></a></p>\\n<h3>Glass fiber frames</h3>\\n<p>Molded fiberglass tricopter:\\n<a href=\"https://i.sstatic.net/ajms4.png\" rel=\"nofollow noreferrer\"><img src=\"https://i.sstatic.net/ajms4.png\" alt=\"Molded fiberglass tricopter\" /></a></p>\\n<p>PCB frames:\\n<a href=\"https://i.sstatic.net/EqN5c.png\" rel=\"nofollow noreferrer\"><img src=\"https://i.sstatic.net/EqN5c.png\" alt=\"ardubee overview\" /></a>\\n<a href=\"https://i.sstatic.net/BDImw.jpg\" rel=\"nofollow noreferrer\"><img src=\"https://i.sstatic.net/BDImw.jpg\" alt=\"ardubee bare\" /></a>\\n<a href=\"https://i.sstatic.net/jaCbD.png\" rel=\"nofollow noreferrer\"><img src=\"https://i.sstatic.net/jaCbD.png\" alt=\"ardubee weight\" /></a></p>\\n'}"
      ]
     },
     "execution_count": 123,
     "metadata": {},
     "output_type": "execute_result"
    }
   ],
   "source": [
    "answers[0]"
   ]
  },
  {
   "cell_type": "code",
   "execution_count": 134,
   "metadata": {},
   "outputs": [],
   "source": [
    "answers_map = {\n",
    "    'QuestionID': [],\n",
    "    'Score': [],\n",
    "    'Body': []\n",
    "}\n",
    "\n",
    "for a in answers:\n",
    "    answers_map['QuestionID'].append(a['question_id'])\n",
    "    answers_map['Score'].append(a['score'])\n",
    "    answers_map['Body'].append(a['body'])\n",
    "\n",
    "answers_df = pd.DataFrame(answers_map)\n"
   ]
  },
  {
   "cell_type": "code",
   "execution_count": 135,
   "metadata": {},
   "outputs": [
    {
     "data": {
      "text/html": [
       "<div>\n",
       "<style scoped>\n",
       "    .dataframe tbody tr th:only-of-type {\n",
       "        vertical-align: middle;\n",
       "    }\n",
       "\n",
       "    .dataframe tbody tr th {\n",
       "        vertical-align: top;\n",
       "    }\n",
       "\n",
       "    .dataframe thead th {\n",
       "        text-align: right;\n",
       "    }\n",
       "</style>\n",
       "<table border=\"1\" class=\"dataframe\">\n",
       "  <thead>\n",
       "    <tr style=\"text-align: right;\">\n",
       "      <th></th>\n",
       "      <th>QuestionID</th>\n",
       "      <th>Score</th>\n",
       "      <th>Body</th>\n",
       "    </tr>\n",
       "  </thead>\n",
       "  <tbody>\n",
       "    <tr>\n",
       "      <th>0</th>\n",
       "      <td>877</td>\n",
       "      <td>21</td>\n",
       "      <td>&lt;p&gt;There's no denying the fact that when it co...</td>\n",
       "    </tr>\n",
       "    <tr>\n",
       "      <th>1</th>\n",
       "      <td>1137</td>\n",
       "      <td>21</td>\n",
       "      <td>&lt;p&gt;One practical advantage is increased ground...</td>\n",
       "    </tr>\n",
       "    <tr>\n",
       "      <th>2</th>\n",
       "      <td>961</td>\n",
       "      <td>20</td>\n",
       "      <td>&lt;p&gt;Thrust is proportional to the change in mom...</td>\n",
       "    </tr>\n",
       "    <tr>\n",
       "      <th>3</th>\n",
       "      <td>961</td>\n",
       "      <td>17</td>\n",
       "      <td>&lt;p&gt;An explanation for why this is can be found...</td>\n",
       "    </tr>\n",
       "    <tr>\n",
       "      <th>4</th>\n",
       "      <td>1137</td>\n",
       "      <td>17</td>\n",
       "      <td>&lt;p&gt;Expanding on @Kralc's answer:&lt;/p&gt;\\n&lt;p&gt;Here'...</td>\n",
       "    </tr>\n",
       "    <tr>\n",
       "      <th>5</th>\n",
       "      <td>378</td>\n",
       "      <td>15</td>\n",
       "      <td>&lt;p&gt;tl;dr: Your batteries will be perfectly fin...</td>\n",
       "    </tr>\n",
       "    <tr>\n",
       "      <th>6</th>\n",
       "      <td>21</td>\n",
       "      <td>12</td>\n",
       "      <td>&lt;p&gt;Unmanned aircraft weighing less than 55 pou...</td>\n",
       "    </tr>\n",
       "    <tr>\n",
       "      <th>7</th>\n",
       "      <td>495</td>\n",
       "      <td>12</td>\n",
       "      <td>&lt;p&gt;The way the PID controller works is wheneve...</td>\n",
       "    </tr>\n",
       "    <tr>\n",
       "      <th>8</th>\n",
       "      <td>1082</td>\n",
       "      <td>12</td>\n",
       "      <td>&lt;h1&gt;TLDR;&lt;/h1&gt;\\n&lt;p&gt;Aft CG means stalls are unr...</td>\n",
       "    </tr>\n",
       "    <tr>\n",
       "      <th>9</th>\n",
       "      <td>1457</td>\n",
       "      <td>12</td>\n",
       "      <td>&lt;p&gt;The risk of a puffy battery exploding durin...</td>\n",
       "    </tr>\n",
       "  </tbody>\n",
       "</table>\n",
       "</div>"
      ],
      "text/plain": [
       "   QuestionID  Score                                               Body\n",
       "0         877     21  <p>There's no denying the fact that when it co...\n",
       "1        1137     21  <p>One practical advantage is increased ground...\n",
       "2         961     20  <p>Thrust is proportional to the change in mom...\n",
       "3         961     17  <p>An explanation for why this is can be found...\n",
       "4        1137     17  <p>Expanding on @Kralc's answer:</p>\\n<p>Here'...\n",
       "5         378     15  <p>tl;dr: Your batteries will be perfectly fin...\n",
       "6          21     12  <p>Unmanned aircraft weighing less than 55 pou...\n",
       "7         495     12  <p>The way the PID controller works is wheneve...\n",
       "8        1082     12  <h1>TLDR;</h1>\\n<p>Aft CG means stalls are unr...\n",
       "9        1457     12  <p>The risk of a puffy battery exploding durin..."
      ]
     },
     "execution_count": 135,
     "metadata": {},
     "output_type": "execute_result"
    }
   ],
   "source": [
    "answers_df[:10]"
   ]
  },
  {
   "cell_type": "code",
   "execution_count": 158,
   "metadata": {},
   "outputs": [
    {
     "data": {
      "text/html": [
       "<div>\n",
       "<style scoped>\n",
       "    .dataframe tbody tr th:only-of-type {\n",
       "        vertical-align: middle;\n",
       "    }\n",
       "\n",
       "    .dataframe tbody tr th {\n",
       "        vertical-align: top;\n",
       "    }\n",
       "\n",
       "    .dataframe thead th {\n",
       "        text-align: right;\n",
       "    }\n",
       "</style>\n",
       "<table border=\"1\" class=\"dataframe\">\n",
       "  <thead>\n",
       "    <tr style=\"text-align: right;\">\n",
       "      <th></th>\n",
       "      <th>Score</th>\n",
       "      <th>Body</th>\n",
       "    </tr>\n",
       "    <tr>\n",
       "      <th>QuestionID</th>\n",
       "      <th></th>\n",
       "      <th></th>\n",
       "    </tr>\n",
       "  </thead>\n",
       "  <tbody>\n",
       "    <tr>\n",
       "      <th>6</th>\n",
       "      <td>3</td>\n",
       "      <td>&lt;p&gt;What frame are you running?  Which propelle...</td>\n",
       "    </tr>\n",
       "    <tr>\n",
       "      <th>7</th>\n",
       "      <td>4</td>\n",
       "      <td>&lt;p&gt;This depends on your version of QX7. &lt;/p&gt;\\n...</td>\n",
       "    </tr>\n",
       "    <tr>\n",
       "      <th>10</th>\n",
       "      <td>3</td>\n",
       "      <td>&lt;p&gt;I've actually posed this question to an FAA...</td>\n",
       "    </tr>\n",
       "    <tr>\n",
       "      <th>14</th>\n",
       "      <td>6</td>\n",
       "      <td>&lt;p&gt;The crossfire OSD has a “my VTX” setting on...</td>\n",
       "    </tr>\n",
       "    <tr>\n",
       "      <th>21</th>\n",
       "      <td>12</td>\n",
       "      <td>&lt;p&gt;Unmanned aircraft weighing less than 55 pou...</td>\n",
       "    </tr>\n",
       "    <tr>\n",
       "      <th>...</th>\n",
       "      <td>...</td>\n",
       "      <td>...</td>\n",
       "    </tr>\n",
       "    <tr>\n",
       "      <th>2260</th>\n",
       "      <td>3</td>\n",
       "      <td>&lt;p&gt;Yes, the rules are pretty much the same in ...</td>\n",
       "    </tr>\n",
       "    <tr>\n",
       "      <th>2269</th>\n",
       "      <td>3</td>\n",
       "      <td>&lt;p&gt;No. The Flir Black Hornet Nano UAV does not...</td>\n",
       "    </tr>\n",
       "    <tr>\n",
       "      <th>2320</th>\n",
       "      <td>1</td>\n",
       "      <td>&lt;p&gt;Hmm. I don't recall specifics (been out of ...</td>\n",
       "    </tr>\n",
       "    <tr>\n",
       "      <th>2394</th>\n",
       "      <td>2</td>\n",
       "      <td>&lt;p&gt;I'm not really an expert, but you're right ...</td>\n",
       "    </tr>\n",
       "    <tr>\n",
       "      <th>2441</th>\n",
       "      <td>3</td>\n",
       "      <td>&lt;p&gt;The inactivity beep is a feature of the ESC...</td>\n",
       "    </tr>\n",
       "  </tbody>\n",
       "</table>\n",
       "<p>169 rows × 2 columns</p>\n",
       "</div>"
      ],
      "text/plain": [
       "            Score                                               Body\n",
       "QuestionID                                                          \n",
       "6               3  <p>What frame are you running?  Which propelle...\n",
       "7               4  <p>This depends on your version of QX7. </p>\\n...\n",
       "10              3  <p>I've actually posed this question to an FAA...\n",
       "14              6  <p>The crossfire OSD has a “my VTX” setting on...\n",
       "21             12  <p>Unmanned aircraft weighing less than 55 pou...\n",
       "...           ...                                                ...\n",
       "2260            3  <p>Yes, the rules are pretty much the same in ...\n",
       "2269            3  <p>No. The Flir Black Hornet Nano UAV does not...\n",
       "2320            1  <p>Hmm. I don't recall specifics (been out of ...\n",
       "2394            2  <p>I'm not really an expert, but you're right ...\n",
       "2441            3  <p>The inactivity beep is a feature of the ESC...\n",
       "\n",
       "[169 rows x 2 columns]"
      ]
     },
     "execution_count": 158,
     "metadata": {},
     "output_type": "execute_result"
    }
   ],
   "source": [
    "top_rated_answers = answers_df.groupby(['QuestionID']).max()\n",
    "top_rated_answers"
   ]
  },
  {
   "cell_type": "markdown",
   "metadata": {},
   "source": [
    "## Add missing answers"
   ]
  },
  {
   "cell_type": "code",
   "execution_count": 161,
   "metadata": {},
   "outputs": [],
   "source": [
    "df_complete = df.copy()"
   ]
  },
  {
   "cell_type": "code",
   "execution_count": 187,
   "metadata": {},
   "outputs": [
    {
     "name": "stdout",
     "output_type": "stream",
     "text": [
      "QuestionID\n",
      "72      76.0\n",
      "322    323.0\n",
      "74       NaN\n",
      "415    419.0\n",
      "877      NaN\n",
      "       ...  \n",
      "633    640.0\n",
      "646    647.0\n",
      "660      NaN\n",
      "669    674.0\n",
      "679    687.0\n",
      "Name: Answer, Length: 500, dtype: float64\n"
     ]
    }
   ],
   "source": [
    "df_c = df_complete[\"Answer\"]\n",
    "\n",
    "print(df_c)"
   ]
  },
  {
   "cell_type": "code",
   "execution_count": 188,
   "metadata": {},
   "outputs": [
    {
     "data": {
      "text/html": [
       "<div>\n",
       "<style scoped>\n",
       "    .dataframe tbody tr th:only-of-type {\n",
       "        vertical-align: middle;\n",
       "    }\n",
       "\n",
       "    .dataframe tbody tr th {\n",
       "        vertical-align: top;\n",
       "    }\n",
       "\n",
       "    .dataframe thead th {\n",
       "        text-align: right;\n",
       "    }\n",
       "</style>\n",
       "<table border=\"1\" class=\"dataframe\">\n",
       "  <thead>\n",
       "    <tr style=\"text-align: right;\">\n",
       "      <th></th>\n",
       "      <th>Score</th>\n",
       "      <th>Body</th>\n",
       "    </tr>\n",
       "    <tr>\n",
       "      <th>QuestionID</th>\n",
       "      <th></th>\n",
       "      <th></th>\n",
       "    </tr>\n",
       "  </thead>\n",
       "  <tbody>\n",
       "    <tr>\n",
       "      <th>6</th>\n",
       "      <td>3</td>\n",
       "      <td>&lt;p&gt;What frame are you running?  Which propelle...</td>\n",
       "    </tr>\n",
       "    <tr>\n",
       "      <th>7</th>\n",
       "      <td>4</td>\n",
       "      <td>&lt;p&gt;This depends on your version of QX7. &lt;/p&gt;\\n...</td>\n",
       "    </tr>\n",
       "    <tr>\n",
       "      <th>10</th>\n",
       "      <td>3</td>\n",
       "      <td>&lt;p&gt;I've actually posed this question to an FAA...</td>\n",
       "    </tr>\n",
       "    <tr>\n",
       "      <th>14</th>\n",
       "      <td>6</td>\n",
       "      <td>&lt;p&gt;The crossfire OSD has a “my VTX” setting on...</td>\n",
       "    </tr>\n",
       "    <tr>\n",
       "      <th>21</th>\n",
       "      <td>12</td>\n",
       "      <td>&lt;p&gt;Unmanned aircraft weighing less than 55 pou...</td>\n",
       "    </tr>\n",
       "    <tr>\n",
       "      <th>...</th>\n",
       "      <td>...</td>\n",
       "      <td>...</td>\n",
       "    </tr>\n",
       "    <tr>\n",
       "      <th>2260</th>\n",
       "      <td>3</td>\n",
       "      <td>&lt;p&gt;Yes, the rules are pretty much the same in ...</td>\n",
       "    </tr>\n",
       "    <tr>\n",
       "      <th>2269</th>\n",
       "      <td>3</td>\n",
       "      <td>&lt;p&gt;No. The Flir Black Hornet Nano UAV does not...</td>\n",
       "    </tr>\n",
       "    <tr>\n",
       "      <th>2320</th>\n",
       "      <td>1</td>\n",
       "      <td>&lt;p&gt;Hmm. I don't recall specifics (been out of ...</td>\n",
       "    </tr>\n",
       "    <tr>\n",
       "      <th>2394</th>\n",
       "      <td>2</td>\n",
       "      <td>&lt;p&gt;I'm not really an expert, but you're right ...</td>\n",
       "    </tr>\n",
       "    <tr>\n",
       "      <th>2441</th>\n",
       "      <td>3</td>\n",
       "      <td>&lt;p&gt;The inactivity beep is a feature of the ESC...</td>\n",
       "    </tr>\n",
       "  </tbody>\n",
       "</table>\n",
       "<p>169 rows × 2 columns</p>\n",
       "</div>"
      ],
      "text/plain": [
       "            Score                                               Body\n",
       "QuestionID                                                          \n",
       "6               3  <p>What frame are you running?  Which propelle...\n",
       "7               4  <p>This depends on your version of QX7. </p>\\n...\n",
       "10              3  <p>I've actually posed this question to an FAA...\n",
       "14              6  <p>The crossfire OSD has a “my VTX” setting on...\n",
       "21             12  <p>Unmanned aircraft weighing less than 55 pou...\n",
       "...           ...                                                ...\n",
       "2260            3  <p>Yes, the rules are pretty much the same in ...\n",
       "2269            3  <p>No. The Flir Black Hornet Nano UAV does not...\n",
       "2320            1  <p>Hmm. I don't recall specifics (been out of ...\n",
       "2394            2  <p>I'm not really an expert, but you're right ...\n",
       "2441            3  <p>The inactivity beep is a feature of the ESC...\n",
       "\n",
       "[169 rows x 2 columns]"
      ]
     },
     "execution_count": 188,
     "metadata": {},
     "output_type": "execute_result"
    }
   ],
   "source": [
    "top_rated_answers"
   ]
  },
  {
   "cell_type": "code",
   "execution_count": 205,
   "metadata": {},
   "outputs": [],
   "source": [
    "top_rated_answers.to_csv(\"top_rated_answers.csv\")"
   ]
  },
  {
   "cell_type": "code",
   "execution_count": 207,
   "metadata": {},
   "outputs": [],
   "source": [
    "df_complete.to_csv('df_complete_almost.csv')"
   ]
  },
  {
   "cell_type": "code",
   "execution_count": 173,
   "metadata": {},
   "outputs": [
    {
     "data": {
      "text/plain": [
       "Score                                                    3\n",
       "Body     <p>What frame are you running?  Which propelle...\n",
       "Name: 6, dtype: object"
      ]
     },
     "execution_count": 173,
     "metadata": {},
     "output_type": "execute_result"
    }
   ],
   "source": [
    "top_rated_answers.loc[6]"
   ]
  },
  {
   "cell_type": "code",
   "execution_count": 184,
   "metadata": {},
   "outputs": [],
   "source": [
    "df_complete = df_complete.set_index('QuestionID')"
   ]
  },
  {
   "cell_type": "code",
   "execution_count": null,
   "metadata": {},
   "outputs": [],
   "source": [
    "top_rated_answers.loc[]"
   ]
  },
  {
   "cell_type": "code",
   "execution_count": 185,
   "metadata": {},
   "outputs": [
    {
     "data": {
      "text/html": [
       "<div>\n",
       "<style scoped>\n",
       "    .dataframe tbody tr th:only-of-type {\n",
       "        vertical-align: middle;\n",
       "    }\n",
       "\n",
       "    .dataframe tbody tr th {\n",
       "        vertical-align: top;\n",
       "    }\n",
       "\n",
       "    .dataframe thead th {\n",
       "        text-align: right;\n",
       "    }\n",
       "</style>\n",
       "<table border=\"1\" class=\"dataframe\">\n",
       "  <thead>\n",
       "    <tr style=\"text-align: right;\">\n",
       "      <th></th>\n",
       "      <th>Title</th>\n",
       "      <th>Question</th>\n",
       "      <th>Answer</th>\n",
       "      <th>Source</th>\n",
       "    </tr>\n",
       "    <tr>\n",
       "      <th>QuestionID</th>\n",
       "      <th></th>\n",
       "      <th></th>\n",
       "      <th></th>\n",
       "      <th></th>\n",
       "    </tr>\n",
       "  </thead>\n",
       "  <tbody>\n",
       "    <tr>\n",
       "      <th>72</th>\n",
       "      <td>Is it safe to fly LiPo batteries after they ge...</td>\n",
       "      <td>&lt;p&gt;Some of my LiPo batteries got &amp;quot;puffy&amp;q...</td>\n",
       "      <td>76.0</td>\n",
       "      <td>https://drones.stackexchange.com/questions/72/...</td>\n",
       "    </tr>\n",
       "    <tr>\n",
       "      <th>322</th>\n",
       "      <td>Why do multirotors usually have four propellors?</td>\n",
       "      <td>&lt;p&gt;I've observed that hover-capable drones alm...</td>\n",
       "      <td>323.0</td>\n",
       "      <td>https://drones.stackexchange.com/questions/322...</td>\n",
       "    </tr>\n",
       "    <tr>\n",
       "      <th>74</th>\n",
       "      <td>How long can a LiPo pack be kept fully dischar...</td>\n",
       "      <td>&lt;p&gt;There is a reason LiPo packs are recommende...</td>\n",
       "      <td>NaN</td>\n",
       "      <td>https://drones.stackexchange.com/questions/74/...</td>\n",
       "    </tr>\n",
       "    <tr>\n",
       "      <th>415</th>\n",
       "      <td>How does a quadcopter yaw?</td>\n",
       "      <td>&lt;p&gt;I've always wondered how a quadcopter actua...</td>\n",
       "      <td>419.0</td>\n",
       "      <td>https://drones.stackexchange.com/questions/415...</td>\n",
       "    </tr>\n",
       "    <tr>\n",
       "      <th>877</th>\n",
       "      <td>What is a good alternative to carbon fibre for...</td>\n",
       "      <td>&lt;p&gt;I am making a diy quadcopter and I need a s...</td>\n",
       "      <td>NaN</td>\n",
       "      <td>https://drones.stackexchange.com/questions/877...</td>\n",
       "    </tr>\n",
       "    <tr>\n",
       "      <th>...</th>\n",
       "      <td>...</td>\n",
       "      <td>...</td>\n",
       "      <td>...</td>\n",
       "      <td>...</td>\n",
       "    </tr>\n",
       "    <tr>\n",
       "      <th>633</th>\n",
       "      <td>Effect of Deadcat frame on performance?</td>\n",
       "      <td>&lt;p&gt;I've seen a lot of new frames with a Deadca...</td>\n",
       "      <td>640.0</td>\n",
       "      <td>https://drones.stackexchange.com/questions/633...</td>\n",
       "    </tr>\n",
       "    <tr>\n",
       "      <th>646</th>\n",
       "      <td>How hot should an ESC get?</td>\n",
       "      <td>&lt;p&gt;What is the maximum safe temperature that a...</td>\n",
       "      <td>647.0</td>\n",
       "      <td>https://drones.stackexchange.com/questions/646...</td>\n",
       "    </tr>\n",
       "    <tr>\n",
       "      <th>660</th>\n",
       "      <td>What are the specs of the DJI Mavic 2 Pro motors?</td>\n",
       "      <td>&lt;p&gt;Does anyone know the specifications of the ...</td>\n",
       "      <td>NaN</td>\n",
       "      <td>https://drones.stackexchange.com/questions/660...</td>\n",
       "    </tr>\n",
       "    <tr>\n",
       "      <th>669</th>\n",
       "      <td>Drone “fine tuning”</td>\n",
       "      <td>&lt;p&gt;On my controller for my drone there are 4 b...</td>\n",
       "      <td>674.0</td>\n",
       "      <td>https://drones.stackexchange.com/questions/669...</td>\n",
       "    </tr>\n",
       "    <tr>\n",
       "      <th>679</th>\n",
       "      <td>Does the performance of a brushless motor decr...</td>\n",
       "      <td>&lt;p&gt;The brushes wear out in brushed motors and ...</td>\n",
       "      <td>687.0</td>\n",
       "      <td>https://drones.stackexchange.com/questions/679...</td>\n",
       "    </tr>\n",
       "  </tbody>\n",
       "</table>\n",
       "<p>500 rows × 4 columns</p>\n",
       "</div>"
      ],
      "text/plain": [
       "                                                        Title  \\\n",
       "QuestionID                                                      \n",
       "72          Is it safe to fly LiPo batteries after they ge...   \n",
       "322          Why do multirotors usually have four propellors?   \n",
       "74          How long can a LiPo pack be kept fully dischar...   \n",
       "415                                How does a quadcopter yaw?   \n",
       "877         What is a good alternative to carbon fibre for...   \n",
       "...                                                       ...   \n",
       "633                   Effect of Deadcat frame on performance?   \n",
       "646                                How hot should an ESC get?   \n",
       "660         What are the specs of the DJI Mavic 2 Pro motors?   \n",
       "669                                       Drone “fine tuning”   \n",
       "679         Does the performance of a brushless motor decr...   \n",
       "\n",
       "                                                     Question  Answer  \\\n",
       "QuestionID                                                              \n",
       "72          <p>Some of my LiPo batteries got &quot;puffy&q...    76.0   \n",
       "322         <p>I've observed that hover-capable drones alm...   323.0   \n",
       "74          <p>There is a reason LiPo packs are recommende...     NaN   \n",
       "415         <p>I've always wondered how a quadcopter actua...   419.0   \n",
       "877         <p>I am making a diy quadcopter and I need a s...     NaN   \n",
       "...                                                       ...     ...   \n",
       "633         <p>I've seen a lot of new frames with a Deadca...   640.0   \n",
       "646         <p>What is the maximum safe temperature that a...   647.0   \n",
       "660         <p>Does anyone know the specifications of the ...     NaN   \n",
       "669         <p>On my controller for my drone there are 4 b...   674.0   \n",
       "679         <p>The brushes wear out in brushed motors and ...   687.0   \n",
       "\n",
       "                                                       Source  \n",
       "QuestionID                                                     \n",
       "72          https://drones.stackexchange.com/questions/72/...  \n",
       "322         https://drones.stackexchange.com/questions/322...  \n",
       "74          https://drones.stackexchange.com/questions/74/...  \n",
       "415         https://drones.stackexchange.com/questions/415...  \n",
       "877         https://drones.stackexchange.com/questions/877...  \n",
       "...                                                       ...  \n",
       "633         https://drones.stackexchange.com/questions/633...  \n",
       "646         https://drones.stackexchange.com/questions/646...  \n",
       "660         https://drones.stackexchange.com/questions/660...  \n",
       "669         https://drones.stackexchange.com/questions/669...  \n",
       "679         https://drones.stackexchange.com/questions/679...  \n",
       "\n",
       "[500 rows x 4 columns]"
      ]
     },
     "execution_count": 185,
     "metadata": {},
     "output_type": "execute_result"
    }
   ],
   "source": [
    "df_complete.fillna(top_rated_answers)"
   ]
  }
 ],
 "metadata": {
  "kernelspec": {
   "display_name": ".venv",
   "language": "python",
   "name": "python3"
  },
  "language_info": {
   "codemirror_mode": {
    "name": "ipython",
    "version": 3
   },
   "file_extension": ".py",
   "mimetype": "text/x-python",
   "name": "python",
   "nbconvert_exporter": "python",
   "pygments_lexer": "ipython3",
   "version": "3.12.3"
  }
 },
 "nbformat": 4,
 "nbformat_minor": 2
}
